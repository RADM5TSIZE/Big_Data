{
 "cells": [
  {
   "cell_type": "markdown",
   "metadata": {},
   "source": [
    "The data can be found at: https://www.kaggle.com/currie32/crimes-in-chicago\n",
    "the .csv's are stored in a separate folder called bigdata_data -> either create a similar folder or alter the paths in the code"
   ]
  },
  {
   "cell_type": "code",
   "execution_count": 1,
   "metadata": {},
   "outputs": [],
   "source": [
    "import pandas as pd\n",
    "import numpy as np\n",
    "import matplotlib as mpl\n",
    "import matplotlib.pyplot as plt\n",
    "import seaborn as sns\n",
    "#currently not necessary\n",
    "import datetime"
   ]
  },
  {
   "cell_type": "code",
   "execution_count": 2,
   "metadata": {},
   "outputs": [
    {
     "name": "stderr",
     "output_type": "stream",
     "text": [
      "b'Skipping line 1513591: expected 23 fields, saw 24\\n'\n",
      "C:\\Users\\schmids\\AppData\\Roaming\\Python\\Python36\\site-packages\\IPython\\core\\interactiveshell.py:3058: DtypeWarning: Columns (17,20) have mixed types.Specify dtype option on import or set low_memory=False.\n",
      "  interactivity=interactivity, compiler=compiler, result=result)\n",
      "b'Skipping line 533719: expected 23 fields, saw 24\\n'\n",
      "b'Skipping line 1149094: expected 23 fields, saw 41\\n'\n"
     ]
    }
   ],
   "source": [
    "#paths may differ on your local machine\n",
    "#error bad lines is necessary because there are some bad lines, however it is not dramatic, because only 3 lines are skipped\n",
    "crimes01to04 = pd.read_csv('./bigdata_data/Chicago_Crimes_2001_to_2004.csv', error_bad_lines=False)\n",
    "crimes05to07 = pd.read_csv('./bigdata_data/Chicago_Crimes_2005_to_2007.csv', error_bad_lines=False)\n",
    "crimes08to11 = pd.read_csv('./bigdata_data/Chicago_Crimes_2008_to_2011.csv', error_bad_lines=False)\n",
    "crimes12to17 = pd.read_csv('./bigdata_data/Chicago_Crimes_2012_to_2017.csv', error_bad_lines=False)"
   ]
  },
  {
   "cell_type": "code",
   "execution_count": 3,
   "metadata": {
    "scrolled": false
   },
   "outputs": [
    {
     "data": {
      "text/html": [
       "<div>\n",
       "<style scoped>\n",
       "    .dataframe tbody tr th:only-of-type {\n",
       "        vertical-align: middle;\n",
       "    }\n",
       "\n",
       "    .dataframe tbody tr th {\n",
       "        vertical-align: top;\n",
       "    }\n",
       "\n",
       "    .dataframe thead th {\n",
       "        text-align: right;\n",
       "    }\n",
       "</style>\n",
       "<table border=\"1\" class=\"dataframe\">\n",
       "  <thead>\n",
       "    <tr style=\"text-align: right;\">\n",
       "      <th></th>\n",
       "      <th>Unnamed: 0</th>\n",
       "      <th>ID</th>\n",
       "      <th>Case Number</th>\n",
       "      <th>Date</th>\n",
       "      <th>Block</th>\n",
       "      <th>IUCR</th>\n",
       "      <th>Primary Type</th>\n",
       "      <th>Description</th>\n",
       "      <th>Location Description</th>\n",
       "      <th>Arrest</th>\n",
       "      <th>...</th>\n",
       "      <th>Ward</th>\n",
       "      <th>Community Area</th>\n",
       "      <th>FBI Code</th>\n",
       "      <th>X Coordinate</th>\n",
       "      <th>Y Coordinate</th>\n",
       "      <th>Year</th>\n",
       "      <th>Updated On</th>\n",
       "      <th>Latitude</th>\n",
       "      <th>Longitude</th>\n",
       "      <th>Location</th>\n",
       "    </tr>\n",
       "  </thead>\n",
       "  <tbody>\n",
       "    <tr>\n",
       "      <th>0</th>\n",
       "      <td>388</td>\n",
       "      <td>4785</td>\n",
       "      <td>HP610824</td>\n",
       "      <td>10/07/2008 12:39:00 PM</td>\n",
       "      <td>000XX E 75TH ST</td>\n",
       "      <td>0110</td>\n",
       "      <td>HOMICIDE</td>\n",
       "      <td>FIRST DEGREE MURDER</td>\n",
       "      <td>ALLEY</td>\n",
       "      <td>True</td>\n",
       "      <td>...</td>\n",
       "      <td>6.0</td>\n",
       "      <td>69.0</td>\n",
       "      <td>01A</td>\n",
       "      <td>1178207.0</td>\n",
       "      <td>1855308.0</td>\n",
       "      <td>2008</td>\n",
       "      <td>08/17/2015 03:03:40 PM</td>\n",
       "      <td>41.758276</td>\n",
       "      <td>-87.622451</td>\n",
       "      <td>(41.758275857, -87.622451031)</td>\n",
       "    </tr>\n",
       "    <tr>\n",
       "      <th>1</th>\n",
       "      <td>835</td>\n",
       "      <td>4786</td>\n",
       "      <td>HP616595</td>\n",
       "      <td>10/09/2008 03:30:00 AM</td>\n",
       "      <td>048XX W POLK ST</td>\n",
       "      <td>0110</td>\n",
       "      <td>HOMICIDE</td>\n",
       "      <td>FIRST DEGREE MURDER</td>\n",
       "      <td>STREET</td>\n",
       "      <td>True</td>\n",
       "      <td>...</td>\n",
       "      <td>24.0</td>\n",
       "      <td>25.0</td>\n",
       "      <td>01A</td>\n",
       "      <td>1144200.0</td>\n",
       "      <td>1895857.0</td>\n",
       "      <td>2008</td>\n",
       "      <td>08/17/2015 03:03:40 PM</td>\n",
       "      <td>41.870252</td>\n",
       "      <td>-87.746069</td>\n",
       "      <td>(41.87025207, -87.746069362)</td>\n",
       "    </tr>\n",
       "    <tr>\n",
       "      <th>2</th>\n",
       "      <td>1334</td>\n",
       "      <td>4787</td>\n",
       "      <td>HP616904</td>\n",
       "      <td>10/09/2008 08:35:00 AM</td>\n",
       "      <td>030XX W MANN DR</td>\n",
       "      <td>0110</td>\n",
       "      <td>HOMICIDE</td>\n",
       "      <td>FIRST DEGREE MURDER</td>\n",
       "      <td>PARK PROPERTY</td>\n",
       "      <td>False</td>\n",
       "      <td>...</td>\n",
       "      <td>18.0</td>\n",
       "      <td>66.0</td>\n",
       "      <td>01A</td>\n",
       "      <td>1157314.0</td>\n",
       "      <td>1859778.0</td>\n",
       "      <td>2008</td>\n",
       "      <td>08/17/2015 03:03:40 PM</td>\n",
       "      <td>41.770990</td>\n",
       "      <td>-87.698901</td>\n",
       "      <td>(41.770990476, -87.698901469)</td>\n",
       "    </tr>\n",
       "    <tr>\n",
       "      <th>3</th>\n",
       "      <td>1907</td>\n",
       "      <td>4788</td>\n",
       "      <td>HP618616</td>\n",
       "      <td>10/10/2008 02:33:00 AM</td>\n",
       "      <td>052XX W CHICAGO AVE</td>\n",
       "      <td>0110</td>\n",
       "      <td>HOMICIDE</td>\n",
       "      <td>FIRST DEGREE MURDER</td>\n",
       "      <td>RESTAURANT</td>\n",
       "      <td>False</td>\n",
       "      <td>...</td>\n",
       "      <td>37.0</td>\n",
       "      <td>25.0</td>\n",
       "      <td>01A</td>\n",
       "      <td>1141065.0</td>\n",
       "      <td>1904824.0</td>\n",
       "      <td>2008</td>\n",
       "      <td>08/17/2015 03:03:40 PM</td>\n",
       "      <td>41.894917</td>\n",
       "      <td>-87.757358</td>\n",
       "      <td>(41.894916924, -87.757358147)</td>\n",
       "    </tr>\n",
       "    <tr>\n",
       "      <th>4</th>\n",
       "      <td>2436</td>\n",
       "      <td>4789</td>\n",
       "      <td>HP619020</td>\n",
       "      <td>10/10/2008 12:50:00 PM</td>\n",
       "      <td>026XX S HOMAN AVE</td>\n",
       "      <td>0110</td>\n",
       "      <td>HOMICIDE</td>\n",
       "      <td>FIRST DEGREE MURDER</td>\n",
       "      <td>GARAGE</td>\n",
       "      <td>False</td>\n",
       "      <td>...</td>\n",
       "      <td>22.0</td>\n",
       "      <td>30.0</td>\n",
       "      <td>01A</td>\n",
       "      <td>1154123.0</td>\n",
       "      <td>1886297.0</td>\n",
       "      <td>2008</td>\n",
       "      <td>08/17/2015 03:03:40 PM</td>\n",
       "      <td>41.843826</td>\n",
       "      <td>-87.709893</td>\n",
       "      <td>(41.843826272, -87.709893465)</td>\n",
       "    </tr>\n",
       "  </tbody>\n",
       "</table>\n",
       "<p>5 rows × 23 columns</p>\n",
       "</div>"
      ],
      "text/plain": [
       "   Unnamed: 0    ID Case Number                    Date                Block  \\\n",
       "0         388  4785    HP610824  10/07/2008 12:39:00 PM      000XX E 75TH ST   \n",
       "1         835  4786    HP616595  10/09/2008 03:30:00 AM      048XX W POLK ST   \n",
       "2        1334  4787    HP616904  10/09/2008 08:35:00 AM      030XX W MANN DR   \n",
       "3        1907  4788    HP618616  10/10/2008 02:33:00 AM  052XX W CHICAGO AVE   \n",
       "4        2436  4789    HP619020  10/10/2008 12:50:00 PM    026XX S HOMAN AVE   \n",
       "\n",
       "   IUCR Primary Type          Description Location Description  Arrest  ...  \\\n",
       "0  0110     HOMICIDE  FIRST DEGREE MURDER                ALLEY    True  ...   \n",
       "1  0110     HOMICIDE  FIRST DEGREE MURDER               STREET    True  ...   \n",
       "2  0110     HOMICIDE  FIRST DEGREE MURDER        PARK PROPERTY   False  ...   \n",
       "3  0110     HOMICIDE  FIRST DEGREE MURDER           RESTAURANT   False  ...   \n",
       "4  0110     HOMICIDE  FIRST DEGREE MURDER               GARAGE   False  ...   \n",
       "\n",
       "   Ward  Community Area  FBI Code  X Coordinate  Y Coordinate  Year  \\\n",
       "0   6.0            69.0       01A     1178207.0     1855308.0  2008   \n",
       "1  24.0            25.0       01A     1144200.0     1895857.0  2008   \n",
       "2  18.0            66.0       01A     1157314.0     1859778.0  2008   \n",
       "3  37.0            25.0       01A     1141065.0     1904824.0  2008   \n",
       "4  22.0            30.0       01A     1154123.0     1886297.0  2008   \n",
       "\n",
       "               Updated On   Latitude  Longitude                       Location  \n",
       "0  08/17/2015 03:03:40 PM  41.758276 -87.622451  (41.758275857, -87.622451031)  \n",
       "1  08/17/2015 03:03:40 PM  41.870252 -87.746069   (41.87025207, -87.746069362)  \n",
       "2  08/17/2015 03:03:40 PM  41.770990 -87.698901  (41.770990476, -87.698901469)  \n",
       "3  08/17/2015 03:03:40 PM  41.894917 -87.757358  (41.894916924, -87.757358147)  \n",
       "4  08/17/2015 03:03:40 PM  41.843826 -87.709893  (41.843826272, -87.709893465)  \n",
       "\n",
       "[5 rows x 23 columns]"
      ]
     },
     "execution_count": 3,
     "metadata": {},
     "output_type": "execute_result"
    }
   ],
   "source": [
    "crimes08to11.head()"
   ]
  },
  {
   "cell_type": "code",
   "execution_count": 4,
   "metadata": {},
   "outputs": [],
   "source": [
    "#the smaller dataframes get concatenated to one big one ... later this happens when streaming data gets added to the data from\n",
    "# the data lake\n",
    "crimes_list = [crimes01to04, crimes05to07, crimes08to11, crimes12to17]\n",
    "crimes = pd.concat(crimes_list)"
   ]
  },
  {
   "cell_type": "code",
   "execution_count": 5,
   "metadata": {},
   "outputs": [],
   "source": [
    "#data preparation\n",
    "crimes['Year'] = crimes['Year'].astype('int')\n",
    "#in testing we found that there is a faulty line, where the year is specified as 41, this whole line gets deleted,\n",
    "# because the probability of it beiing a faulty row in general is high and we have enough other entrys\n",
    "crimes = crimes[crimes.Year != 41]"
   ]
  },
  {
   "cell_type": "code",
   "execution_count": 6,
   "metadata": {},
   "outputs": [],
   "source": [
    "#currently not needed\n",
    "#crimes['mmddyyyy'] = crimes['Date'].astype(str).str[0:10].astype(str)\n",
    "#crimes['mmddyyyy'].apply(lambda x: datetime.datetime.strptime(x, '%m/%d/%Y'))\n",
    "\n",
    "#data preparation\n",
    "#the month-information gets read from the Date-column\n",
    "crimes['month'] = crimes['Date'].astype(str).str[0:2].astype(str)"
   ]
  },
  {
   "cell_type": "code",
   "execution_count": 7,
   "metadata": {},
   "outputs": [
    {
     "data": {
      "text/plain": [
       "<matplotlib.axes._subplots.AxesSubplot at 0x203511f2128>"
      ]
     },
     "execution_count": 7,
     "metadata": {},
     "output_type": "execute_result"
    },
    {
     "data": {
      "image/png": "[encoded data removed]",
      "text/plain": [
       "<Figure size 432x288 with 1 Axes>"
      ]
     },
     "metadata": {
      "needs_background": "light"
     },
     "output_type": "display_data"
    }
   ],
   "source": [
    "#bar plot that shows, how crime is distributed over the months\n",
    "crimes['month'].value_counts().sort_index().plot(kind=\"bar\")"
   ]
  },
  {
   "cell_type": "code",
   "execution_count": 8,
   "metadata": {
    "scrolled": true
   },
   "outputs": [
    {
     "data": {
      "text/plain": [
       "<matplotlib.axes._subplots.AxesSubplot at 0x203512c5390>"
      ]
     },
     "execution_count": 8,
     "metadata": {},
     "output_type": "execute_result"
    },
    {
     "data": {
      "image/png": "[encoded data removed]",
      "text/plain": [
       "<Figure size 432x288 with 1 Axes>"
      ]
     },
     "metadata": {
      "needs_background": "light"
     },
     "output_type": "display_data"
    }
   ],
   "source": [
    "#bar plot that shows, how crime is distributed over the years\n",
    "crimes['Year'].value_counts().sort_index().plot(kind=\"bar\")"
   ]
  },
  {
   "cell_type": "code",
   "execution_count": 9,
   "metadata": {
    "scrolled": false
   },
   "outputs": [
    {
     "data": {
      "text/plain": [
       "<matplotlib.axes._subplots.AxesSubplot at 0x203512d0ba8>"
      ]
     },
     "execution_count": 9,
     "metadata": {},
     "output_type": "execute_result"
    },
    {
     "data": {
      "image/png": "[encoded data removed]",
      "text/plain": [
       "<Figure size 432x288 with 1 Axes>"
      ]
     },
     "metadata": {},
     "output_type": "display_data"
    }
   ],
   "source": [
    "#pie chart that shows the proportion of crime that results in an arrest\n",
    "crimes['Arrest'].value_counts().sort_index().plot(kind=\"pie\")"
   ]
  },
  {
   "cell_type": "code",
   "execution_count": 10,
   "metadata": {},
   "outputs": [
    {
     "data": {
      "text/plain": [
       "<matplotlib.axes._subplots.AxesSubplot at 0x203513bffd0>"
      ]
     },
     "execution_count": 10,
     "metadata": {},
     "output_type": "execute_result"
    },
    {
     "data": {
      "image/png": "[encoded data removed]",
      "text/plain": [
       "<Figure size 432x288 with 1 Axes>"
      ]
     },
     "metadata": {},
     "output_type": "display_data"
    }
   ],
   "source": [
    "#pie chart that shows the proportion of domestic crime\n",
    "crimes['Domestic'].value_counts().sort_index().plot(kind=\"pie\")"
   ]
  },
  {
   "cell_type": "code",
   "execution_count": 11,
   "metadata": {},
   "outputs": [
    {
     "data": {
      "text/plain": [
       "<matplotlib.axes._subplots.AxesSubplot at 0x2035140add8>"
      ]
     },
     "execution_count": 11,
     "metadata": {},
     "output_type": "execute_result"
    },
    {
     "data": {
      "image/png": "[encoded data removed]",
      "text/plain": [
       "<Figure size 432x288 with 1 Axes>"
      ]
     },
     "metadata": {
      "needs_background": "light"
     },
     "output_type": "display_data"
    }
   ],
   "source": [
    "#bar plot that shows, what type of crime is committed most\n",
    "# 50-percentile is used, so only the types with the highest occurences are shown and not all\n",
    "crimes['Primary Type'].value_counts()[crimes['Primary Type'].value_counts()> crimes['Primary Type'].value_counts().quantile(0.50)].plot(kind=\"bar\")"
   ]
  },
  {
   "cell_type": "code",
   "execution_count": 12,
   "metadata": {},
   "outputs": [
    {
     "data": {
      "text/plain": [
       "<matplotlib.axes._subplots.AxesSubplot at 0x203514c1908>"
      ]
     },
     "execution_count": 12,
     "metadata": {},
     "output_type": "execute_result"
    },
    {
     "data": {
      "image/png": "[encoded data removed]",
      "text/plain": [
       "<Figure size 432x288 with 1 Axes>"
      ]
     },
     "metadata": {
      "needs_background": "light"
     },
     "output_type": "display_data"
    }
   ],
   "source": [
    "#bar plot that shows, how crime is distributed over the districts\n",
    "# for whatever reason the column can't be converted to int in a sensible way\n",
    "crimes['District'].value_counts().sort_index().plot(kind=\"bar\")"
   ]
  },
  {
   "cell_type": "code",
   "execution_count": 13,
   "metadata": {},
   "outputs": [
    {
     "data": {
      "text/plain": [
       "<matplotlib.collections.PathCollection at 0x203ca29ec88>"
      ]
     },
     "execution_count": 13,
     "metadata": {},
     "output_type": "execute_result"
    },
    {
     "data": {
      "image/png": "[encoded data removed]",
      "text/plain": [
       "<Figure size 432x288 with 1 Axes>"
      ]
     },
     "metadata": {
      "needs_background": "light"
     },
     "output_type": "display_data"
    }
   ],
   "source": [
    "#attempt to visualize, where in the City there is a lot of crime\n",
    "crimes['Latitude'] = crimes['Latitude'].astype('float')\n",
    "crimes = crimes[crimes.Latitude > 40]\n",
    "fig, ax = plt.subplots()\n",
    "ax.scatter(crimes.Latitude, crimes.Longitude)"
   ]
  }
 ],
 "metadata": {
  "kernelspec": {
   "display_name": "Python 3",
   "language": "python",
   "name": "python3"
  },
  "language_info": {
   "codemirror_mode": {
    "name": "ipython",
    "version": 3
   },
   "file_extension": ".py",
   "mimetype": "text/x-python",
   "name": "python",
   "nbconvert_exporter": "python",
   "pygments_lexer": "ipython3",
   "version": "3.6.8"
  }
 },
 "nbformat": 4,
 "nbformat_minor": 2
}
